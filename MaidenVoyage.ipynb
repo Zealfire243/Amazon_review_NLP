{
 "cells": [
  {
   "cell_type": "code",
   "execution_count": 1,
   "metadata": {},
   "outputs": [],
   "source": [
    "import pandas as pd\n",
    "import numpy as np\n",
    "from nltk.corpus import stopwords\n",
    "from nltk import word_tokenize, FreqDist, BigramCollocationFinder\n",
    "from sklearn.feature_extraction.text import TfidfVectorizer\n",
    "from nltk.stem import WordNetLemmatizer\n",
    "from nltk import ngrams\n",
    "from collections import Counter\n",
    "import seaborn as sns\n",
    "import matplotlib.pyplot as plt\n",
    "import nltk\n",
    "import string\n"
   ]
  },
  {
   "cell_type": "markdown",
   "metadata": {},
   "source": [
    "### Objective:\n",
    "Guide is: [article](https://towardsdatascience.com/sentiment-analysis-and-product-recommendation-on-amazons-electronics-dataset-reviews-part-1-6b340de660c2)\n",
    "Set up a 'dev doc' where we can "
   ]
  },
  {
   "cell_type": "markdown",
   "metadata": {},
   "source": [
    "The code below comes from where I got the data. It was a helper function provided to help with ease of access."
   ]
  },
  {
   "cell_type": "code",
   "execution_count": 2,
   "metadata": {},
   "outputs": [],
   "source": [
    "import pandas as pd\n",
    "import gzip\n",
    "import json\n",
    "\n",
    "def parse(path):\n",
    "    g = gzip.open(path, 'rb')\n",
    "    for l in g:\n",
    "        yield json.loads(l)\n",
    "\n",
    "def getDF(path):\n",
    "    i = 0\n",
    "    df = {}\n",
    "    for d in parse(path):\n",
    "        df[i] = d\n",
    "        i += 1\n",
    "    return pd.DataFrame.from_dict(df, orient='index')"
   ]
  },
  {
   "cell_type": "code",
   "execution_count": 3,
   "metadata": {},
   "outputs": [],
   "source": [
    "df = getDF('Magazine_Subscriptions.json.gz')"
   ]
  },
  {
   "cell_type": "code",
   "execution_count": 4,
   "metadata": {},
   "outputs": [
    {
     "data": {
      "text/html": [
       "<div>\n",
       "<style scoped>\n",
       "    .dataframe tbody tr th:only-of-type {\n",
       "        vertical-align: middle;\n",
       "    }\n",
       "\n",
       "    .dataframe tbody tr th {\n",
       "        vertical-align: top;\n",
       "    }\n",
       "\n",
       "    .dataframe thead th {\n",
       "        text-align: right;\n",
       "    }\n",
       "</style>\n",
       "<table border=\"1\" class=\"dataframe\">\n",
       "  <thead>\n",
       "    <tr style=\"text-align: right;\">\n",
       "      <th></th>\n",
       "      <th>overall</th>\n",
       "      <th>vote</th>\n",
       "      <th>verified</th>\n",
       "      <th>reviewTime</th>\n",
       "      <th>reviewerID</th>\n",
       "      <th>asin</th>\n",
       "      <th>reviewerName</th>\n",
       "      <th>reviewText</th>\n",
       "      <th>summary</th>\n",
       "      <th>unixReviewTime</th>\n",
       "      <th>style</th>\n",
       "      <th>image</th>\n",
       "    </tr>\n",
       "  </thead>\n",
       "  <tbody>\n",
       "    <tr>\n",
       "      <th>0</th>\n",
       "      <td>5.0</td>\n",
       "      <td>9</td>\n",
       "      <td>False</td>\n",
       "      <td>11 8, 2001</td>\n",
       "      <td>AH2IFH762VY5U</td>\n",
       "      <td>B00005N7P0</td>\n",
       "      <td>ted sedlmayr</td>\n",
       "      <td>for computer enthusiast, MaxPC is a welcome si...</td>\n",
       "      <td>AVID READER SINCE \"boot\"  WAS THE NAME</td>\n",
       "      <td>1005177600</td>\n",
       "      <td>NaN</td>\n",
       "      <td>NaN</td>\n",
       "    </tr>\n",
       "    <tr>\n",
       "      <th>1</th>\n",
       "      <td>5.0</td>\n",
       "      <td>9</td>\n",
       "      <td>False</td>\n",
       "      <td>10 31, 2001</td>\n",
       "      <td>AOSFI0JEYU4XM</td>\n",
       "      <td>B00005N7P0</td>\n",
       "      <td>Amazon Customer</td>\n",
       "      <td>Thank god this is not a Ziff Davis publication...</td>\n",
       "      <td>The straight scoop</td>\n",
       "      <td>1004486400</td>\n",
       "      <td>NaN</td>\n",
       "      <td>NaN</td>\n",
       "    </tr>\n",
       "    <tr>\n",
       "      <th>2</th>\n",
       "      <td>3.0</td>\n",
       "      <td>14</td>\n",
       "      <td>False</td>\n",
       "      <td>03 24, 2007</td>\n",
       "      <td>A3JPFWKS83R49V</td>\n",
       "      <td>B00005N7OJ</td>\n",
       "      <td>Bryan Carey</td>\n",
       "      <td>Antiques Magazine is a publication made for an...</td>\n",
       "      <td>Antiques Magazine is Good, but not for Everyone</td>\n",
       "      <td>1174694400</td>\n",
       "      <td>{'Format:': ' Print Magazine'}</td>\n",
       "      <td>NaN</td>\n",
       "    </tr>\n",
       "    <tr>\n",
       "      <th>3</th>\n",
       "      <td>5.0</td>\n",
       "      <td>13</td>\n",
       "      <td>False</td>\n",
       "      <td>11 10, 2006</td>\n",
       "      <td>A19FKU6JZQ2ECJ</td>\n",
       "      <td>B00005N7OJ</td>\n",
       "      <td>Patricia L. Porada</td>\n",
       "      <td>This beautiful magazine is in itself a work of...</td>\n",
       "      <td>THE  DISCERNING READER</td>\n",
       "      <td>1163116800</td>\n",
       "      <td>{'Format:': ' Print Magazine'}</td>\n",
       "      <td>NaN</td>\n",
       "    </tr>\n",
       "    <tr>\n",
       "      <th>4</th>\n",
       "      <td>5.0</td>\n",
       "      <td>NaN</td>\n",
       "      <td>True</td>\n",
       "      <td>07 14, 2014</td>\n",
       "      <td>A25MDGOMZ2GALN</td>\n",
       "      <td>B00005N7P0</td>\n",
       "      <td>Alvey</td>\n",
       "      <td>A great read every issue.</td>\n",
       "      <td>Five Stars</td>\n",
       "      <td>1405296000</td>\n",
       "      <td>NaN</td>\n",
       "      <td>NaN</td>\n",
       "    </tr>\n",
       "  </tbody>\n",
       "</table>\n",
       "</div>"
      ],
      "text/plain": [
       "   overall vote  verified   reviewTime      reviewerID        asin  \\\n",
       "0      5.0    9     False   11 8, 2001   AH2IFH762VY5U  B00005N7P0   \n",
       "1      5.0    9     False  10 31, 2001   AOSFI0JEYU4XM  B00005N7P0   \n",
       "2      3.0   14     False  03 24, 2007  A3JPFWKS83R49V  B00005N7OJ   \n",
       "3      5.0   13     False  11 10, 2006  A19FKU6JZQ2ECJ  B00005N7OJ   \n",
       "4      5.0  NaN      True  07 14, 2014  A25MDGOMZ2GALN  B00005N7P0   \n",
       "\n",
       "         reviewerName                                         reviewText  \\\n",
       "0        ted sedlmayr  for computer enthusiast, MaxPC is a welcome si...   \n",
       "1     Amazon Customer  Thank god this is not a Ziff Davis publication...   \n",
       "2         Bryan Carey  Antiques Magazine is a publication made for an...   \n",
       "3  Patricia L. Porada  This beautiful magazine is in itself a work of...   \n",
       "4               Alvey                          A great read every issue.   \n",
       "\n",
       "                                           summary  unixReviewTime  \\\n",
       "0           AVID READER SINCE \"boot\"  WAS THE NAME      1005177600   \n",
       "1                               The straight scoop      1004486400   \n",
       "2  Antiques Magazine is Good, but not for Everyone      1174694400   \n",
       "3                           THE  DISCERNING READER      1163116800   \n",
       "4                                       Five Stars      1405296000   \n",
       "\n",
       "                            style image  \n",
       "0                             NaN   NaN  \n",
       "1                             NaN   NaN  \n",
       "2  {'Format:': ' Print Magazine'}   NaN  \n",
       "3  {'Format:': ' Print Magazine'}   NaN  \n",
       "4                             NaN   NaN  "
      ]
     },
     "execution_count": 4,
     "metadata": {},
     "output_type": "execute_result"
    }
   ],
   "source": [
    "df.head()"
   ]
  },
  {
   "cell_type": "code",
   "execution_count": 5,
   "metadata": {},
   "outputs": [
    {
     "name": "stdout",
     "output_type": "stream",
     "text": [
      "<class 'pandas.core.frame.DataFrame'>\n",
      "Int64Index: 89689 entries, 0 to 89688\n",
      "Data columns (total 12 columns):\n",
      " #   Column          Non-Null Count  Dtype  \n",
      "---  ------          --------------  -----  \n",
      " 0   overall         89689 non-null  float64\n",
      " 1   vote            24103 non-null  object \n",
      " 2   verified        89689 non-null  bool   \n",
      " 3   reviewTime      89689 non-null  object \n",
      " 4   reviewerID      89689 non-null  object \n",
      " 5   asin            89689 non-null  object \n",
      " 6   reviewerName    89687 non-null  object \n",
      " 7   reviewText      89656 non-null  object \n",
      " 8   summary         89670 non-null  object \n",
      " 9   unixReviewTime  89689 non-null  int64  \n",
      " 10  style           51398 non-null  object \n",
      " 11  image           135 non-null    object \n",
      "dtypes: bool(1), float64(1), int64(1), object(9)\n",
      "memory usage: 8.3+ MB\n"
     ]
    }
   ],
   "source": [
    "df.info()"
   ]
  },
  {
   "cell_type": "code",
   "execution_count": 6,
   "metadata": {},
   "outputs": [
    {
     "name": "stdout",
     "output_type": "stream",
     "text": [
      "<class 'pandas.core.frame.DataFrame'>\n",
      "Int64Index: 89689 entries, 0 to 89688\n",
      "Data columns (total 12 columns):\n",
      " #   Column          Non-Null Count  Dtype  \n",
      "---  ------          --------------  -----  \n",
      " 0   overall         89689 non-null  float64\n",
      " 1   vote            89689 non-null  object \n",
      " 2   verified        89689 non-null  bool   \n",
      " 3   reviewTime      89689 non-null  object \n",
      " 4   reviewerID      89689 non-null  object \n",
      " 5   asin            89689 non-null  object \n",
      " 6   reviewerName    89687 non-null  object \n",
      " 7   reviewText      89656 non-null  object \n",
      " 8   summary         89670 non-null  object \n",
      " 9   unixReviewTime  89689 non-null  int64  \n",
      " 10  style           51398 non-null  object \n",
      " 11  image           135 non-null    object \n",
      "dtypes: bool(1), float64(1), int64(1), object(9)\n",
      "memory usage: 8.3+ MB\n"
     ]
    }
   ],
   "source": [
    "to_drop = ['image', 'style']\n",
    "df.vote.fillna(0, inplace=True)\n",
    "df.reviewerName.fillna('Amazon Customer', inplace=True)\n",
    "df.info()"
   ]
  },
  {
   "cell_type": "code",
   "execution_count": 19,
   "metadata": {},
   "outputs": [
    {
     "data": {
      "text/plain": [
       "{'overall': 5.0    53790\n",
       " 4.0    12676\n",
       " 1.0    11029\n",
       " 3.0     6971\n",
       " 2.0     5223\n",
       " Name: overall, dtype: int64,\n",
       " 'vote': 0      65586\n",
       " 2       6318\n",
       " 3       3657\n",
       " 4       2403\n",
       " 5       1754\n",
       "        ...  \n",
       " 420        1\n",
       " 469        1\n",
       " 284        1\n",
       " 228        1\n",
       " 257        1\n",
       " Name: vote, Length: 288, dtype: int64,\n",
       " 'verified': True     58654\n",
       " False    31035\n",
       " Name: verified, dtype: int64,\n",
       " 'reviewTime': 02 20, 2015    146\n",
       " 03 29, 2016    131\n",
       " 03 25, 2014    127\n",
       " 05 30, 2015    114\n",
       " 03 1, 2016     113\n",
       "               ... \n",
       " 03 10, 2004      1\n",
       " 01 31, 2007      1\n",
       " 12 27, 2005      1\n",
       " 06 12, 2005      1\n",
       " 07 2, 2006       1\n",
       " Name: reviewTime, Length: 5804, dtype: int64,\n",
       " 'reviewerID': A3JPFWKS83R49V    55\n",
       " A2OTUWUSH49XIN    26\n",
       " AEMZRE6QYVQBS     25\n",
       " A3GA09FYFKL4EY    24\n",
       " A3R7MXVQRGGIQ9    22\n",
       "                   ..\n",
       " A1DRKHXDHIJUKL     1\n",
       " A11DO937IE4S6T     1\n",
       " A1RBMSUX4LG0O1     1\n",
       " AC3MTD3XECI64      1\n",
       " A1EPYR0EF39PMB     1\n",
       " Name: reviewerID, Length: 72098, dtype: int64,\n",
       " 'asin': B00005NIOH    1718\n",
       " B00005N7Q1    1537\n",
       " B00005N7SC    1480\n",
       " B00007B10Y    1409\n",
       " B001LF4EVO    1339\n",
       "               ... \n",
       " B001W39IA2       1\n",
       " B00K7M14VA       1\n",
       " B001CMRTYA       1\n",
       " B00026EEK4       1\n",
       " B000071FIM       1\n",
       " Name: asin, Length: 2428, dtype: int64,\n",
       " 'reviewerName': Amazon Customer      4833\n",
       " Kindle Customer      1053\n",
       " Linda                  94\n",
       " Susan                  67\n",
       " Mike                   64\n",
       "                      ... \n",
       " yanny                   1\n",
       " Jiedne                  1\n",
       " GadgetMan               1\n",
       " Colin Chenelle          1\n",
       " Jesus P. Magallon       1\n",
       " Name: reviewerName, Length: 58399, dtype: int64,\n",
       " 'reviewText': Great magazine                                                                                                                                                                                                                                                                                                                                                                                                                                                                                                                                                                                                                                                                                         233\n",
       " Great                                                                                                                                                                                                                                                                                                                                                                                                                                                                                                                                                                                                                                                                                                  207\n",
       " Love it                                                                                                                                                                                                                                                                                                                                                                                                                                                                                                                                                                                                                                                                                                185\n",
       " great                                                                                                                                                                                                                                                                                                                                                                                                                                                                                                                                                                                                                                                                                                  163\n",
       " Good                                                                                                                                                                                                                                                                                                                                                                                                                                                                                                                                                                                                                                                                                                   130\n",
       "                                                                                                                                                                                                                                                                                                                                                                                                                                                                                                                                                                                                                                                                                                       ... \n",
       " What I love most about this travel magazine is the out-of-the-ordinary information it provides within a particular destination. Although primarily geared towards $$$$$+ destinations, the editors do a great job with providing more than just great hotel info. In the September 2006 edition, there is the 12 th annual Green List which details the best places in ecotourism - preserving earth's environment and cultures while traveling to the destinations that are simultaneously earth and people friendly. It happens to be a great magazine, well researched, well written, and informative while delivering unique information.                                                            1\n",
       " I wasn't sure what to expect when I ordered it. I was on a magazine shopping binge and saw some of the great reviews along with the high rating, so I gave it a shot.\\n\\nI already discovered 3 artists that I really dig, that I wouldn't otherwise have ever known about. AND those were just from the cd sampler, I've yet to fully go thru all of the magazine's hundreds of reviews (or so it seems). There are more than plenty of reviews on truly indie artists, from many genres and sub genres. There's so many I really don't know where to begin.\\n\\nMy only complaint is, the font is very small throughout the magazine. I have to hold the magazine close to me in order to read it.      1\n",
       " We get this magazine for my Mother-in-law.  She really likes it and shares it with friends. It is very good.                                                                                                                                                                                                                                                                                                                                                                                                                                                                                                                                                                                             1\n",
       " I buy Mental Floss and save it to read on business trips. Kind of a cross between Ripleys and People with odd's and end's that make you think. Always fun! Love the test at the end.....                                                                                                                                                                                                                                                                                                                                                                                                                                                                                                                 1\n",
       " The Family Handyman always has something informative.                                                                                                                                                                                                                                                                                                                                                                                                                                                                                                                                                                                                                                                    1\n",
       " Name: reviewText, Length: 79582, dtype: int64,\n",
       " 'summary': Five Stars                                                                                                                                        14964\n",
       " Four Stars                                                                                                                                         2938\n",
       " One Star                                                                                                                                           1475\n",
       " Three Stars                                                                                                                                        1376\n",
       " Two Stars                                                                                                                                           691\n",
       "                                                                                                                                                   ...  \n",
       " Analog only gets better.                                                                                                                              1\n",
       " one section sums up \"millionaires\" attitude that \"more is better\" and \"Respondents with at least 8 million scored higher than sad sacks with 7        1\n",
       " ... is a gift I give every year and they love it.                                                                                                     1\n",
       " Key content missing from the Kindle version                                                                                                           1\n",
       " LIke this                                                                                                                                             1\n",
       " Name: summary, Length: 51160, dtype: int64,\n",
       " 'unixReviewTime': 1424390400    146\n",
       " 1459209600    131\n",
       " 1395705600    127\n",
       " 1432944000    114\n",
       " 1456790400    113\n",
       "              ... \n",
       " 1132012800      1\n",
       " 1151798400      1\n",
       " 1069891200      1\n",
       " 1072396800      1\n",
       " 1157414400      1\n",
       " Name: unixReviewTime, Length: 5804, dtype: int64,\n",
       " 'style': {'Format:': ' Print Magazine'}    37638\n",
       " {'Format:': ' Kindle Edition'}    13760\n",
       " Name: style, dtype: int64,\n",
       " 'image': [https://images-na.ssl-images-amazon.com/images/I/61oOFGgV0fL._SY88.jpg]                                                                                                                                                                                                                            2\n",
       " [https://images-na.ssl-images-amazon.com/images/I/71iAi8-7BwL._SY88.jpg]                                                                                                                                                                                                                            2\n",
       " [https://images-na.ssl-images-amazon.com/images/I/71301pSTQQL._SY88.jpg]                                                                                                                                                                                                                            2\n",
       " [https://images-na.ssl-images-amazon.com/images/I/717ry0n3+0L._SY88.jpg, https://images-na.ssl-images-amazon.com/images/I/71LV6NDPzvL._SY88.jpg, https://images-na.ssl-images-amazon.com/images/I/71nMf2kLr4L._SY88.jpg]                                                                            2\n",
       " [https://images-na.ssl-images-amazon.com/images/I/41MABVRXtuL._SY88.jpg, https://images-na.ssl-images-amazon.com/images/I/41evPYM5JoL._SY88.jpg, https://images-na.ssl-images-amazon.com/images/I/41FR5hS7GkL._SY88.jpg]                                                                            2\n",
       "                                                                                                                                                                                                                                                                                                    ..\n",
       " [https://images-na.ssl-images-amazon.com/images/I/81-QVg7K0+L._SY88.jpg]                                                                                                                                                                                                                            1\n",
       " [https://images-na.ssl-images-amazon.com/images/I/71a2NAGAq8L._SY88.jpg, https://images-na.ssl-images-amazon.com/images/I/71a2NAGAq8L._SY88.jpg, https://images-na.ssl-images-amazon.com/images/I/71a2NAGAq8L._SY88.jpg]                                                                            1\n",
       " [https://images-na.ssl-images-amazon.com/images/I/41rq34O7WoL._SY88.jpg]                                                                                                                                                                                                                            1\n",
       " [https://images-na.ssl-images-amazon.com/images/I/51NBWnYCm0L._SY88.jpg, https://images-na.ssl-images-amazon.com/images/I/618v0yDh8YL._SY88.jpg, https://images-na.ssl-images-amazon.com/images/I/61kcZhRDXZL._SY88.jpg, https://images-na.ssl-images-amazon.com/images/I/618pjkmcnTL._SY88.jpg]    1\n",
       " [https://images-na.ssl-images-amazon.com/images/I/81bFx9VyEhL._SY88.jpg]                                                                                                                                                                                                                            1\n",
       " Name: image, Length: 130, dtype: int64}"
      ]
     },
     "execution_count": 19,
     "metadata": {},
     "output_type": "execute_result"
    }
   ],
   "source": [
    "results = {}\n",
    "for column in df.columns:\n",
    "    results[column] = df[column].value_counts()\n",
    "results"
   ]
  },
  {
   "cell_type": "code",
   "execution_count": 9,
   "metadata": {},
   "outputs": [],
   "source": [
    "stopwords_list = stopwords.words('english') + list(string.punctuation) + [\"''\", '\"\"', '...', '``', \"'s\", \"n't\"]\n",
    "def process_article(article):\n",
    "    return [w.lower() for w in word_tokenize(article) if w.lower() not in stopwords_list]"
   ]
  },
  {
   "cell_type": "code",
   "execution_count": 10,
   "metadata": {},
   "outputs": [],
   "source": [
    "data = list(df.reviewText.dropna())"
   ]
  },
  {
   "cell_type": "code",
   "execution_count": 11,
   "metadata": {},
   "outputs": [],
   "source": [
    "processed_data = list(map(process_article, data))\n"
   ]
  },
  {
   "cell_type": "code",
   "execution_count": 12,
   "metadata": {},
   "outputs": [
    {
     "data": {
      "text/plain": [
       "True"
      ]
     },
     "execution_count": 12,
     "metadata": {},
     "output_type": "execute_result"
    }
   ],
   "source": [
    "out = False\n",
    "if 'not' in stopwords_list:\n",
    "    out = True\n",
    "out"
   ]
  },
  {
   "cell_type": "code",
   "execution_count": 13,
   "metadata": {},
   "outputs": [
    {
     "data": {
      "text/plain": [
       "60908"
      ]
     },
     "execution_count": 13,
     "metadata": {},
     "output_type": "execute_result"
    }
   ],
   "source": [
    "total_vocab = set()\n",
    "for article in processed_data:\n",
    "    total_vocab.update(article)\n",
    "len(total_vocab)"
   ]
  },
  {
   "cell_type": "code",
   "execution_count": 14,
   "metadata": {},
   "outputs": [],
   "source": [
    "review_concat = []\n",
    "for review in processed_data:\n",
    "    review_concat += review\n",
    "review_freqdist = FreqDist(review_concat)\n",
    "review_freqdist.most_common(200)\n",
    "total_word_count = sum(review_freqdist.values())"
   ]
  },
  {
   "cell_type": "code",
   "execution_count": 15,
   "metadata": {},
   "outputs": [],
   "source": [
    "normalized_freqs = {}\n",
    "for word in review_freqdist.most_common(200):\n",
    "    normalized_freq = word[1]/total_word_count\n",
    "    normalized_freqs[word[0]] = normalized_freq\n"
   ]
  },
  {
   "cell_type": "code",
   "execution_count": 16,
   "metadata": {},
   "outputs": [
    {
     "data": {
      "text/plain": [
       "[(('great', 'magazine'), 0.0023747449472953544),\n",
       " (('love', 'magazine'), 0.0023017835074163303),\n",
       " (('first', 'issue'), 0.0012073619092309714),\n",
       " (('magazine', 'great'), 0.0011598869997206476),\n",
       " (('good', 'magazine'), 0.0008745378067691225),\n",
       " (('look', 'forward'), 0.0008685409760941342),\n",
       " (('every', 'month'), 0.0007855848184234632),\n",
       " (('every', 'issue'), 0.0007830861389755514),\n",
       " (('like', 'magazine'), 0.0006751431868257626),\n",
       " (('magazine', 'love'), 0.0006081785776217269),\n",
       " (('cover', 'cover'), 0.0006056798981738152),\n",
       " (('years', 'ago'), 0.0005921870291550915),\n",
       " (('kindle', 'fire'), 0.000578694160136368),\n",
       " (('great', 'articles'), 0.0005472107990926795),\n",
       " (('year', 'old'), 0.0005432129119760207),\n",
       " (('well', 'written'), 0.0005332181941843736),\n",
       " (('great', 'price'), 0.0005197253251656499),\n",
       " (('magazine', 'good'), 0.0005192255892760676),\n",
       " (('interesting', 'articles'), 0.0005012350972511028),\n",
       " (('highly', 'recommend'), 0.0004897411717907086),\n",
       " (('many', 'years'), 0.0004852435487844674),\n",
       " (('read', 'magazine'), 0.0004787469822198968),\n",
       " (('national', 'geographic'), 0.0004717506797657438),\n",
       " (('reading', 'magazine'), 0.0004417665263908025),\n",
       " (('new', 'yorker'), 0.0004402673187220554),\n",
       " (('enjoy', 'magazine'), 0.000439767582832473),\n",
       " (('favorite', 'magazine'), 0.0004377686392741436),\n",
       " (('customer', 'service'), 0.0004342704880470671),\n",
       " (('loves', 'magazine'), 0.0004187786754700141),\n",
       " (('magazine', 'subscription'), 0.0004152805242429376),\n",
       " (('enjoy', 'reading'), 0.0004107829012366964),\n",
       " (('would', 'recommend'), 0.00039529108865964335),\n",
       " (('year', 'subscription'), 0.0003942916168804787),\n",
       " (('kindle', 'version'), 0.00039229267332214926),\n",
       " (('received', 'first'), 0.0003882947862054904),\n",
       " (('magazine', 'always'), 0.00037879980430342565),\n",
       " (('really', 'like'), 0.0003758013889659315),\n",
       " (('would', 'like'), 0.00036180878405762555),\n",
       " (('great', 'recipes'), 0.00035731116105138433),\n",
       " (('long', 'time'), 0.0003518140662659784),\n",
       " (('magazine', 'like'), 0.00035031485859723135),\n",
       " (('really', 'enjoy'), 0.00034931538681806667),\n",
       " (('magazine', 'would'), 0.0003473164432597372),\n",
       " (('one', 'best'), 0.0003443180279222431),\n",
       " (('good', 'articles'), 0.00033732172546809013),\n",
       " (('great', 'ideas'), 0.00033682198957850774),\n",
       " (('read', 'cover'), 0.0003283264794556077),\n",
       " (('magazine', 'read'), 0.0003213301770014547),\n",
       " (('easy', 'read'), 0.00031883149755354296),\n",
       " (('one', 'issue'), 0.00031883149755354296)]"
      ]
     },
     "execution_count": 16,
     "metadata": {},
     "output_type": "execute_result"
    }
   ],
   "source": [
    "bigram_measures = nltk.collocations.BigramAssocMeasures()\n",
    "finder = BigramCollocationFinder.from_words(review_concat)\n",
    "scored = finder.score_ngrams(bigram_measures.raw_freq)\n",
    "scored[:50]"
   ]
  },
  {
   "cell_type": "code",
   "execution_count": 17,
   "metadata": {},
   "outputs": [
    {
     "data": {
      "text/plain": [
       "[(('dame', 'edna'), 18.34736833152189),\n",
       " (('settimana', 'enigmistica'), 18.34736833152189),\n",
       " (('humpty', 'dumpty'), 18.124975910185444),\n",
       " (('bells', 'whistles'), 18.12497591018544),\n",
       " (('miley', 'cyrus'), 18.12497591018544),\n",
       " (('fons', 'porter'), 17.93233083224305),\n",
       " (('gwyneth', 'paltrow'), 17.93233083224305),\n",
       " (('a-section', 'a-spacing-small'), 17.932330832243046),\n",
       " (('a-spacing-small', 'a-spacing-top-mini'), 17.932330832243046),\n",
       " (('a-spacing-top-mini', 'video-block'), 17.932330832243046),\n",
       " (('roz', 'chast'), 17.932330832243046),\n",
       " (('video-block', '/div'), 17.932330832243046),\n",
       " (('bona', 'fide'), 17.902583488848993),\n",
       " (('christina', 'aguilera'), 17.861941504351652),\n",
       " (('sofia', 'vergara'), 17.861941504351652),\n",
       " (('movers', 'shakers'), 17.762405830800734),\n",
       " (('suze', 'orman'), 17.76240583080073),\n",
       " (('puerto', 'rico'), 17.739685754300652),\n",
       " (('di', 'giacomo'), 17.610402737355688),\n",
       " (('div', 'id='), 17.610402737355685),\n",
       " (('fareed', 'zakaria'), 17.610402737355685),\n",
       " (('tai', 'chi'), 17.61040273735568),\n",
       " (('katy', 'perry'), 17.540013409464283),\n",
       " (('rue', 'morgue'), 17.540013409464283),\n",
       " (('freeware', 'shareware'), 17.49937142496694),\n",
       " (('stanley', 'schmidt'), 17.446904005072806),\n",
       " (('colin', 'kaepernick'), 17.347368331521892),\n",
       " (('brad', 'pitt'), 17.34736833152189),\n",
       " (('nina', 'garcia'), 17.288474642468323),\n",
       " (('hong', 'kong'), 17.280254135663355),\n",
       " (('yada', 'yada'), 17.25425892713041),\n",
       " (('bobby', 'flay'), 17.231891114101956),\n",
       " (('brick', 'mortar'), 17.231891114101952),\n",
       " (('macular', 'degeneration'), 17.221837449438034),\n",
       " (('kenneth', 'haft'), 17.209864807771954),\n",
       " (('justin', 'bieber'), 17.124975910185444),\n",
       " (('justin', 'timberlake'), 17.12497591018544),\n",
       " (('joel', 'stein'), 17.07988802065691),\n",
       " (('lindsay', 'lohan'), 17.06196611265964),\n",
       " (('dominick', 'dunne'), 17.02544023663453),\n",
       " (('je', 'suis'), 17.02544023663453),\n",
       " (('tygodnik', 'powszechny'), 17.02544023663453),\n",
       " (('jesse', 'mccartney'), 17.025440236634527),\n",
       " (('name=', 'value='), 16.932330832243046),\n",
       " (('tosca', 'reno'), 16.869321034717245),\n",
       " (('harbor', 'freight'), 16.832795158692132),\n",
       " (('goldfish', 'crackers'), 16.81685361482311),\n",
       " (('url', 'livingasseniors'), 16.762405830800734),\n",
       " (('winnie', 'pooh'), 16.762405830800734),\n",
       " (('hilary', 'duff'), 16.735933619439546)]"
      ]
     },
     "execution_count": 17,
     "metadata": {},
     "output_type": "execute_result"
    }
   ],
   "source": [
    "pmi_finder = BigramCollocationFinder.from_words(review_concat)\n",
    "pmi_finder.apply_freq_filter(5)\n",
    "review_pmi_scored = pmi_finder.score_ngrams(bigram_measures.pmi)\n",
    "review_pmi_scored[:50]"
   ]
  },
  {
   "cell_type": "code",
   "execution_count": null,
   "metadata": {},
   "outputs": [],
   "source": []
  }
 ],
 "metadata": {
  "kernelspec": {
   "display_name": "Python 3",
   "language": "python",
   "name": "python3"
  },
  "language_info": {
   "codemirror_mode": {
    "name": "ipython",
    "version": 3
   },
   "file_extension": ".py",
   "mimetype": "text/x-python",
   "name": "python",
   "nbconvert_exporter": "python",
   "pygments_lexer": "ipython3",
   "version": "3.8.5"
  }
 },
 "nbformat": 4,
 "nbformat_minor": 4
}
